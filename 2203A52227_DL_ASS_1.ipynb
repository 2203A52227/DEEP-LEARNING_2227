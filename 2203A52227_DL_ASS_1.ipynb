{
  "nbformat": 4,
  "nbformat_minor": 0,
  "metadata": {
    "colab": {
      "provenance": [],
      "toc_visible": true,
      "authorship_tag": "ABX9TyM2nKfipzixFrZ5cjTeAyTb",
      "include_colab_link": true
    },
    "kernelspec": {
      "name": "python3",
      "display_name": "Python 3"
    },
    "language_info": {
      "name": "python"
    }
  },
  "cells": [
    {
      "cell_type": "markdown",
      "metadata": {
        "id": "view-in-github",
        "colab_type": "text"
      },
      "source": [
        "<a href=\"https://colab.research.google.com/github/2203A52227/DEEP-LEARNING_2227/blob/main/2203A52227_DL_ASS_1.ipynb\" target=\"_parent\"><img src=\"https://colab.research.google.com/assets/colab-badge.svg\" alt=\"Open In Colab\"/></a>"
      ]
    },
    {
      "cell_type": "code",
      "source": [
        "#1\n",
        "y_act=[20,30,40,50,60]\n",
        "y_pred=[20.5,30.3,40.2,50.6,60.7]\n",
        "\n",
        "length=len(y_act)\n",
        "\n",
        "sum=0\n",
        "mae=0\n",
        "for i in range(length):\n",
        "  sum+=(y_act[i] -y_pred[i])**2\n",
        "\n",
        "for i in range(length):\n",
        "  mae+=abs(y_act[i] -y_pred[i])\n",
        "\n",
        "mse=(sum)/length\n",
        "print(mse)\n",
        "\n",
        "#calculate root\n",
        "import math\n",
        "rmse=math.sqrt(mse)\n",
        "print(rmse)\n",
        "\n",
        "mae=(mae)/length\n",
        "print(mae)"
      ],
      "metadata": {
        "colab": {
          "base_uri": "https://localhost:8080/"
        },
        "id": "92fP3TSxI8FN",
        "outputId": "c7db741f-c89f-47ce-f66b-8477d78d189b"
      },
      "execution_count": null,
      "outputs": [
        {
          "output_type": "stream",
          "name": "stdout",
          "text": [
            "0.24600000000000147\n",
            "0.49598387070549127\n",
            "0.4600000000000016\n"
          ]
        }
      ]
    },
    {
      "cell_type": "code",
      "source": [
        "#using libraries\n",
        "import numpy as np\n",
        "from sklearn.metrics import mean_squared_error,mean_absolute_error\n",
        "\n",
        "y_act=[20,30,40,50,60]\n",
        "y_pred=[20.5,30.3,40.2,50.6,60.7]\n",
        "\n",
        "mse=mean_squared_error(y_act,y_pred)\n",
        "print(mse)\n",
        "\n",
        "rmse=np.sqrt(mse)\n",
        "print(rmse)\n",
        "\n",
        "mae=mean_absolute_error(y_act,y_pred)\n",
        "print(mae)"
      ],
      "metadata": {
        "colab": {
          "base_uri": "https://localhost:8080/"
        },
        "id": "R8aagHRXK8_X",
        "outputId": "5c56bb81-5018-40f8-ef1d-c0ce07ef3df7"
      },
      "execution_count": null,
      "outputs": [
        {
          "output_type": "stream",
          "name": "stdout",
          "text": [
            "0.24600000000000147\n",
            "0.49598387070549127\n",
            "0.4600000000000016\n"
          ]
        }
      ]
    },
    {
      "cell_type": "code",
      "source": [
        "#2\n",
        "#calculate confusion matrix without predefined modules\n",
        "y_act=[0,0,0,0,0,1,1,1,1,1,2,2,2,2,2]\n",
        "y_pred=[0,0,1,2,2,1,0,2,0,2,0,0,1,2,2]\n",
        "\n",
        "length=len(y_act)\n",
        "\n",
        "confusion_matrix=[[0,0,0,],[0,0,0],[0,0,0]]\n",
        "\n",
        "for i in range(length):\n",
        "  if y_act[i]==0:\n",
        "    if y_pred[i]==0:\n",
        "      confusion_matrix[0][0]+=1\n",
        "    elif y_pred[i]==1:\n",
        "      confusion_matrix[0][1]+=1\n",
        "    else:\n",
        "      confusion_matrix[0][2]+=1\n",
        "  elif y_act[i]==1:\n",
        "    if y_pred[i]==0:\n",
        "      confusion_matrix[1][0]+=1\n",
        "    elif y_pred[i]==1:\n",
        "      confusion_matrix[1][1]+=1\n",
        "    else:\n",
        "      confusion_matrix[1][2]+=1\n",
        "  else:\n",
        "    if y_pred[i]==0:\n",
        "      confusion_matrix[2][0]+=1\n",
        "    elif y_pred[i]==1:\n",
        "      confusion_matrix[2][1]+=1\n",
        "    else:\n",
        "      confusion_matrix[2][2]+=1\n",
        "print(confusion_matrix)\n",
        "\n",
        "#Accuracy\n",
        "accuracy=confusion_matrix[0][0]+confusion_matrix[1][1]+confusion_matrix[2][2]\n",
        "accuracy=accuracy/length\n",
        "print(accuracy)"
      ],
      "metadata": {
        "colab": {
          "base_uri": "https://localhost:8080/"
        },
        "id": "xbS9tsjZLIFB",
        "outputId": "038f5051-df01-43ea-dbc4-e3b82555ea03"
      },
      "execution_count": null,
      "outputs": [
        {
          "output_type": "stream",
          "name": "stdout",
          "text": [
            "[[2, 1, 2], [2, 1, 2], [2, 1, 2]]\n",
            "0.3333333333333333\n"
          ]
        }
      ]
    },
    {
      "cell_type": "code",
      "source": [
        "y_act=[0,0,0,0,0,1,1,1,1,1,2,2,2,2,2]\n",
        "y_pred=[0,0,1,2,2,1,0,2,0,2,0,0,1,2,2]\n",
        "\n",
        "length=len(y_act)\n",
        "\n",
        "from sklearn.metrics import confusion_matrix,accuracy_score\n",
        "confusion_matrix=confusion_matrix(y_act,y_pred)\n",
        "print(confusion_matrix)\n",
        "\n",
        "accuracy=accuracy_score(y_act,y_pred)\n",
        "print(accuracy)"
      ],
      "metadata": {
        "colab": {
          "base_uri": "https://localhost:8080/"
        },
        "id": "fbqsP-zDJ0Oe",
        "outputId": "a1c1fdd1-2b6f-4cf3-de8d-da291c53a272"
      },
      "execution_count": null,
      "outputs": [
        {
          "output_type": "stream",
          "name": "stdout",
          "text": [
            "[[2 1 2]\n",
            " [2 1 2]\n",
            " [2 1 2]]\n",
            "0.3333333333333333\n"
          ]
        }
      ]
    }
  ]
}